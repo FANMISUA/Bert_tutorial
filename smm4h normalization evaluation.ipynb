{
  "nbformat": 4,
  "nbformat_minor": 0,
  "metadata": {
    "colab": {
      "provenance": []
    },
    "kernelspec": {
      "name": "python3",
      "display_name": "Python 3"
    },
    "language_info": {
      "name": "python"
    }
  },
  "cells": [
    {
      "cell_type": "code",
      "execution_count": 3,
      "metadata": {
        "colab": {
          "base_uri": "https://localhost:8080/"
        },
        "id": "PDVSDvQXLZ9P",
        "outputId": "76e41e8b-e605-4d9d-924d-60bcf6e4eff3"
      },
      "outputs": [
        {
          "output_type": "stream",
          "name": "stdout",
          "text": [
            "Drive already mounted at /content/drive; to attempt to forcibly remount, call drive.mount(\"/content/drive\", force_remount=True).\n",
            "             effect              NormedPT            Unnamed: 2  ptcode_terms\n",
            "0     muscle spasms         Muscle spasms         Muscle spasms    10028334.0\n",
            "1               NaN                   NaN                   NaN           NaN\n",
            "2  frontal headache              Headache              Headache    10019211.0\n",
            "3            shakes   Growth of eyelashes   Growth of eyelashes    10048462.0\n",
            "4             sleep  Advanced sleep phase  Advanced sleep phase    10001423.0\n",
            "                      effect    ptcode   ptcode_terms\n",
            "0              muscle spasms  10028334  Muscle spasms\n",
            "1        gain like 50 pounds  10047896            NaN\n",
            "2           frontal headache  10019211       Headache\n",
            "3                     shakes  10040528            NaN\n",
            "4  stomach is a cement mixer  10042113            NaN\n"
          ]
        }
      ],
      "source": [
        "#read file\n",
        "import pandas as pd\n",
        "from google.colab import drive\n",
        "\n",
        "# Mount Google Drive\n",
        "drive.mount('/content/drive')\n",
        "\n",
        "csv_file_path1 = '/content/drive/MyDrive/Data/Result/AENormTrue.csv'\n",
        "csv_file_path2 = '/content/drive/MyDrive/Data/Result/AENormPred.csv'\n",
        "\n",
        "\n",
        "AENormTrue = pd.read_csv(csv_file_path1)\n",
        "AENormPred = pd.read_csv(csv_file_path2)\n",
        "\n",
        "print(AENormPred.head())\n",
        "print(AENormTrue.head())\n",
        "\n",
        "\n",
        "\n",
        "\n"
      ]
    },
    {
      "cell_type": "code",
      "source": [
        "# @title Default title text\n",
        "match_ae =0\n",
        "match_pt = 0\n",
        "for index, row in AENormTrue.iterrows():\n",
        "  # print(index, row['effect'])\n",
        "  # print(AENormPred['effect'][index])\n",
        "  if row['effect'] == AENormPred['effect'][index]:\n",
        "    match_ae +=1\n",
        "    if row['ptcode'] == AENormPred['ptcode_terms'][index]:\n",
        "      match_pt +=1\n",
        "      print(\"\\\"AE terms\\\":\",row['effect'],\"\\\"PT code\\\":\",row['ptcode'],\"\\\"PT terms\\\":\",row['ptcode_terms'])\n",
        "\n",
        "\n",
        "print(\"number of exactly matched AE terms:\",match_ae)\n",
        "print(\"number of exactly normalized AE terms:\",match_pt)\n",
        "print(\"ratio of exactly normalized AE terms/exactly Extracted AE terms:\",match_pt/match_ae)\n",
        "\n"
      ],
      "metadata": {
        "colab": {
          "base_uri": "https://localhost:8080/"
        },
        "id": "zYuPxK_oMpPk",
        "outputId": "cce97a0a-b8f6-4a4a-e963-b206f591fd75"
      },
      "execution_count": 18,
      "outputs": [
        {
          "output_type": "stream",
          "name": "stdout",
          "text": [
            "\"AE terms\": muscle spasms \"PT code\": 10028334 \"PT terms\": Muscle spasms\n",
            "\"AE terms\": frontal headache \"PT code\": 10019211 \"PT terms\": Headache\n",
            "\"AE terms\": increase my appetite \"PT code\": 10021654 \"PT terms\": Increased appetite\n",
            "\"AE terms\": binge eat \"PT code\": 10004716 \"PT terms\": Binge eating\n",
            "\"AE terms\": dyslexic \"PT code\": 10013932 \"PT terms\": Dyslexia\n",
            "\"AE terms\": appetite \"PT code\": 10021654 \"PT terms\": Increased appetite\n",
            "\"AE terms\": back pain \"PT code\": 10003988 \"PT terms\": Back pain\n",
            "\"AE terms\": priapism \"PT code\": 10036661 \"PT terms\": Priapism\n",
            "number of exactly matched AE terms: 42\n",
            "number of exactly normalized AE terms: 8\n",
            "ratio of exactly normalized AE terms/exactly Extracted AE terms: 0.19047619047619047\n"
          ]
        }
      ]
    }
  ]
}